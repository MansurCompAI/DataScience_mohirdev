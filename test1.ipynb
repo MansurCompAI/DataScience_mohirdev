{
  "nbformat": 4,
  "nbformat_minor": 0,
  "metadata": {
    "colab": {
      "name": "test1.ipynb",
      "provenance": [],
      "authorship_tag": "ABX9TyMDC8csvCAYrWKe3Ro8Y4PB",
      "include_colab_link": true
    },
    "kernelspec": {
      "name": "python3",
      "display_name": "Python 3"
    },
    "language_info": {
      "name": "python"
    }
  },
  "cells": [
    {
      "cell_type": "markdown",
      "metadata": {
        "id": "view-in-github",
        "colab_type": "text"
      },
      "source": [
        "<a href=\"https://colab.research.google.com/github/MansurCompAI/DataScience_mohirdev/blob/master/test1.ipynb\" target=\"_parent\"><img src=\"https://colab.research.google.com/assets/colab-badge.svg\" alt=\"Open In Colab\"/></a>"
      ]
    },
    {
      "cell_type": "code",
      "execution_count": null,
      "metadata": {
        "id": "9DpUNXxSXc2P"
      },
      "outputs": [],
      "source": [
        "from fastai.vision.all import *\n",
        "from ipywidgets import widgets\n",
        "\n",
        "\n",
        "btn_upload = widgets.FileUpload()\n",
        "img = PILImage.create(btn_upload.data[-1])\n",
        "out = widgets.Output()\n",
        "with out:\n",
        "  display(img.to_thumb(224, 224))\n",
        "\n",
        "\n",
        "pred, pred_idx, probs = model.predict(img)\n",
        "label_pred = widgets.Label()\n",
        "label_pred.value = f'Bashorat: {pred}; Ehtimolligi: {probs[pred_idx]*100:.1f}%'\n",
        "\n",
        "\n",
        "classify = widgets.Button(description='Classify')\n",
        "\n",
        "\n",
        "def on_click_classify(change):\n",
        "  img = PILImage.create(btn_upload.data[-1])\n",
        "  out.clear_output()\n",
        "  with out: display(img.to_thumb(224, 224))\n",
        "  pred, pred_idx, probs = model.predict(img)\n",
        "  label_pred.value = label_pred.value = f'Bashorat: {pred}; Ehtimolligi: {probs[pred_idx]*100:.1f}%'\n",
        "  \n",
        "\n",
        "classify.on_click(on_click_classify)\n",
        "\n",
        "widgets.VBox([widgets.Label('Klassifikatsiya uchun rasmni tanlang'), btn_upload, classify, out, label_pred])"
      ]
    }
  ]
}